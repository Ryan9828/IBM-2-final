{
 "cells": [
  {
   "cell_type": "markdown",
   "id": "119e8c73-6c6c-47ad-9df6-6e389642fc02",
   "metadata": {},
   "source": [
    "# Data Science Tools and Ecosystem"
   ]
  },
  {
   "cell_type": "markdown",
   "id": "71d32fff-fc54-4c5d-b403-30324ec65e56",
   "metadata": {},
   "source": [
    "In this notebook, Data Science Tools and Ecosystem are summarized."
   ]
  },
  {
   "cell_type": "markdown",
   "id": "5b233b21-2020-440a-801f-2aa83f82de32",
   "metadata": {},
   "source": [
    "Some of the popular languages that Data Scientists use are:\n",
    "\n",
    "1. Python\n",
    "2. R\n",
    "3. SQL\n",
    "4. Julia\n",
    "5. Java"
   ]
  },
  {
   "cell_type": "markdown",
   "id": "8c3da3db-2b17-47cd-b540-489df24f7473",
   "metadata": {},
   "source": [
    "Some of the commonly used libraries used by Data Scientists include:\n",
    "\n",
    "1. Pandas\n",
    "2. NumPy\n",
    "3. Matplotlib\n",
    "4. Scikit-learn\n",
    "5. TensorFlow\n"
   ]
  },
  {
   "cell_type": "markdown",
   "id": "2bf5a117-b335-4e72-a34e-1379e534046b",
   "metadata": {},
   "source": [
    "| Data Science Tools     |\n",
    "|------------------------|\n",
    "| Jupyter Notebook        |\n",
    "| RStudio                |\n",
    "| Apache Zeppelin        |\n"
   ]
  },
  {
   "cell_type": "markdown",
   "id": "818ee01f-5ada-4c17-b759-9e774d353d06",
   "metadata": {},
   "source": [
    "### Below are a few examples of evaluating arithmetic expressions in Python.\n"
   ]
  },
  {
   "cell_type": "code",
   "execution_count": 19,
   "id": "e51fff0b-0fff-451f-8463-b649434601b8",
   "metadata": {},
   "outputs": [
    {
     "data": {
      "text/plain": [
       "17"
      ]
     },
     "execution_count": 19,
     "metadata": {},
     "output_type": "execute_result"
    }
   ],
   "source": [
    "# This is a simple arithmetic expression to multiply then add integers\n",
    "(3 * 4) + 5\n"
   ]
  },
  {
   "cell_type": "code",
   "execution_count": 21,
   "id": "51f43a8c-25af-4f15-8a03-fc31cfd875a3",
   "metadata": {},
   "outputs": [
    {
     "data": {
      "text/plain": [
       "3.3333333333333335"
      ]
     },
     "execution_count": 21,
     "metadata": {},
     "output_type": "execute_result"
    }
   ],
   "source": [
    "# This will convert 200 minutes to hours by dividing by 60\n",
    "200 / 60\n"
   ]
  },
  {
   "cell_type": "markdown",
   "id": "7e77512d-4f70-449b-8cd2-bee9f01bb12c",
   "metadata": {},
   "source": [
    "**Objectives:**\n",
    "- List popular languages for Data Science\n",
    "- Describe commonly used libraries for data science\n",
    "- Explain arithmetic expressions in Python\n",
    "- Convert time units (minutes to hours)\n"
   ]
  },
  {
   "cell_type": "markdown",
   "id": "999da851-ccaa-4026-a7f7-a16d7f309fa9",
   "metadata": {},
   "source": [
    "## Author\n",
    "\n",
    "Ryan Murray\n"
   ]
  },
  {
   "cell_type": "code",
   "execution_count": null,
   "id": "cc79868c-0e29-4092-badb-eb8b10741d33",
   "metadata": {},
   "outputs": [],
   "source": []
  }
 ],
 "metadata": {
  "kernelspec": {
   "display_name": "Python 3 (ipykernel)",
   "language": "python",
   "name": "python3"
  },
  "language_info": {
   "codemirror_mode": {
    "name": "ipython",
    "version": 3
   },
   "file_extension": ".py",
   "mimetype": "text/x-python",
   "name": "python",
   "nbconvert_exporter": "python",
   "pygments_lexer": "ipython3",
   "version": "3.12.4"
  }
 },
 "nbformat": 4,
 "nbformat_minor": 5
}
